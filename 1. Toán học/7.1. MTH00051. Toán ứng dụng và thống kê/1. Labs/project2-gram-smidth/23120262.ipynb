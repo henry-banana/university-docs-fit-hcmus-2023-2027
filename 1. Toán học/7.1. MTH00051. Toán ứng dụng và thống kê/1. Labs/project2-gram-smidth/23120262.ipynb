{
 "cells": [
  {
   "cell_type": "markdown",
   "id": "0cb86d0e",
   "metadata": {},
   "source": [
    "# Toán UDTK | Project 2: Gram – Schmidt\n",
    "**Sinh viên thực hiện:**   \n",
    "\n",
    "**MSSV: 23120262**\n",
    "\n",
    "**MSSV: Tống Dương Thái Hòa**\n",
    "\n",
    "**Giáo viên hướng dẫn:**  \n",
    "\n",
    "CN. Võ Nam Thục Đoan\n",
    "\n",
    "ThS. Trần Hà Sơn\n",
    "\n",
    "ThS. Nguyễn Hữu Toàn\n",
    "\n",
    "Lê Trọng Anh Tú\n",
    "\n",
    "---\n",
    "\n",
    "## Đề bài\n",
    "\n",
    "1) Cho A là ma trận có thể phân rã QR. Sinh viên viết chương trình in ra ma trận Q và R, biết\n",
    "rằng A = QR. \n",
    "\n",
    "2) Mở rộng: \n",
    "\n",
    "    • Tìm hiểu hàm/ phương thức tương ứng của các thư viện và thực hiện nó, so sánh kết\n",
    "quả. \n",
    "\n",
    "    • Tìm hiểu và trình bày ứng dụng của QR decomposition. \n",
    "\n",
    "### Thuật giải Gram-Schmidt\n",
    "\n",
    "**Input:** Họ các vector $u_1, u_2, \\ldots, u_n$ cùng kích thước.\n",
    "\n",
    "**Output:** \n",
    "- Thông báo nếu họ không độc lập tuyến tính\n",
    "- Ngược lại, trả về:\n",
    "  - Họ trực giao $\\{v_1, v_2, \\ldots, v_n\\}$ hoặc\n",
    "  - Họ trực chuẩn $\\{q_1, q_2, \\ldots, q_n\\}$ (là cơ sở của $\\text{Span}\\{v_1, v_2, \\ldots, v_n\\}$)\n",
    "\n",
    "---\n",
    "\n",
    "**Bước 1:**  \n",
    "$v_1 = u_1$  \n",
    "*Nếu $v_1 = \\mathbf{0}$: thông báo họ không độc lập tuyến tính và kết thúc.*\n",
    "\n",
    "**Bước 2:**  \n",
    "$v_2 = u_2 - \\frac{\\langle u_2, v_1 \\rangle}{\\|v_1\\|^2}v_1$  \n",
    "*Nếu $v_2 = \\mathbf{0}$: thông báo họ không độc lập tuyến tính và kết thúc.*\n",
    "\n",
    "**Bước 3:**  \n",
    "$v_3 = u_3 - \\frac{\\langle u_3, v_1 \\rangle}{\\|v_1\\|^2}v_1 - \\frac{\\langle u_3, v_2 \\rangle}{\\|v_2\\|^2}v_2$  \n",
    "*Nếu $v_3 = \\mathbf{0}$: thông báo họ không độc lập tuyến tính và kết thúc.*\n",
    "\n",
    "$\\vdots$\n",
    "\n",
    "**Bước n:**  \n",
    "$v_n = u_n - \\sum_{i=1}^{n-1}\\frac{\\langle u_n, v_i \\rangle}{\\|v_i\\|^2}v_i$  \n",
    "*Nếu $v_n = \\mathbf{0}$: thông báo họ không độc lập tuyến tính và kết thúc.*\n",
    "\n",
    "---\n",
    "\n",
    "**Bước chuẩn hóa (nếu cần họ trực chuẩn):**\n",
    "\n",
    "$$\n",
    "q_1 = \\frac{v_1}{\\|v_1\\|}, \\quad \n",
    "q_2 = \\frac{v_2}{\\|v_2\\|}, \\quad \n",
    "\\ldots, \\quad \n",
    "q_n = \\frac{v_n}{\\|v_n\\|}\n",
    "$$\n",
    "\n",
    "Trong đó:\n",
    "- $\\langle \\cdot, \\cdot \\rangle$ là tích vô hướng\n",
    "- $\\|\\cdot\\|$ là chuẩn (độ dài) vector\n",
    "- $\\mathbf{0}$ ký hiệu vector không"
   ]
  },
  {
   "cell_type": "markdown",
   "id": "1b560c2a",
   "metadata": {},
   "source": [
    "### Định lý phân rã QR\n",
    "Cho ma trận $A \\in \\mathbb{R}^{m \\times n}$ (với $m \\geq n$) có $n$ vector cột độc lập tuyến tính. Khi đó, tồn tại duy nhất:\n",
    "\n",
    "$$ A = QR $$\n",
    "\n",
    "với:\n",
    "- $Q \\in \\mathbb{R}^{m \\times n}$: Ma trận có các cột trực chuẩn ($Q^\\top Q = I_n$)\n",
    "- $R \\in \\mathbb{R}^{n \\times n}$: Ma trận tam giác trên khả nghịch\n",
    "\n",
    "### Thuật toán phân rã QR bằng Gram-Schmidt\n",
    "\n",
    "#### Input\n",
    "- Ma trận $A = [\\mathbf{a}_1 | \\mathbf{a}_2 | \\cdots | \\mathbf{a}_n] \\in \\mathbb{R}^{m \\times n}$\n",
    "\n",
    "#### Output\n",
    "- Nếu các cột của $A$ phụ thuộc tuyến tính → Thông báo lỗi\n",
    "- Ngược lại → Trả về cặp ma trận $(Q, R)$ thỏa mãn $A = QR$\n",
    "\n",
    "#### Các bước thực hiện\n",
    "\n",
    "1. **Trích xuất các vector cột**  \n",
    "   Xác định $\\{\\mathbf{a}_1, \\mathbf{a}_2, \\ldots, \\mathbf{a}_n\\}$ là các vector cột của $A$\n",
    "\n",
    "2. **Trực chuẩn hóa Gram-Schmidt**  \n",
    "   Áp dụng quá trình Gram-Schmidt để thu được hệ trực chuẩn $\\{\\mathbf{q}_1, \\mathbf{q}_2, \\ldots, \\mathbf{q}_n\\}$:\n",
    "   - Nếu gặp vector $\\mathbf{0}$ trong quá trình → Dừng và báo lỗi\n",
    "\n",
    "3. **Xây dựng ma trận Q**  \n",
    "   $$ Q = [\\mathbf{q}_1 | \\mathbf{q}_2 | \\cdots | \\mathbf{q}_n] $$\n",
    "\n",
    "4. **Tính ma trận R**  \n",
    "   Ma trận tam giác trên $R$ được tính bởi:\n",
    "   $$\n",
    "   R = \\begin{bmatrix}\n",
    "   r_{11} & r_{12} & \\cdots & r_{1n} \\\\\n",
    "   0 & r_{22} & \\cdots & r_{2n} \\\\\n",
    "   \\vdots & \\vdots & \\ddots & \\vdots \\\\\n",
    "   0 & 0 & \\cdots & r_{nn}\n",
    "   \\end{bmatrix}\n",
    "   $$\n",
    "   với:\n",
    "   - $r_{ij} = \\langle \\mathbf{a}_j, \\mathbf{q}_i \\rangle$ khi $i \\leq j$\n",
    "   - $r_{ij} = 0$ khi $i > j$\n",
    "\n",
    "5. **Kiểm tra và trả kết quả**  \n",
    "   Xác nhận $A = QR$ và trả về bộ phân tích"
   ]
  },
  {
   "cell_type": "code",
   "execution_count": 1,
   "id": "9eb4098b",
   "metadata": {},
   "outputs": [],
   "source": [
    "import numpy as np\n",
    "\n",
    "def norm(vector):\n",
    "    squared_sum = sum(x**2 for x in vector)\n",
    "    return squared_sum**0.5\n",
    "\n",
    "def dot_product(v1, v2):\n",
    "    return sum(x * y for x, y in zip(v1, v2))\n",
    "\n",
    "def vector_subtract(v1, v2):\n",
    "    return [x - y for x, y in zip(v1, v2)]\n",
    "\n",
    "def gram_schmidt_qr_decomposition(A):\n",
    "    A = np.array(A, dtype=float)\n",
    "    m, n = A.shape\n",
    "    \n",
    "    # Khởi tạo ma trận Q và R\n",
    "    Q = np.zeros((m, n))\n",
    "    R = np.zeros((n, n))\n",
    "    \n",
    "    for j in range(n):\n",
    "        # Bắt đầu với vector cột thứ j của A\n",
    "        v = A[:, j].copy()\n",
    "        \n",
    "        # Trừ đi hình chiếu lên các vector trước đó\n",
    "        for i in range(j):\n",
    "            R[i, j] = dot_product(Q[:, i], A[:, j])\n",
    "            v = vector_subtract(v, R[i, j] * Q[:, i])\n",
    "        \n",
    "        # Kiểm tra vector có phải vector 0 không\n",
    "        if np.allclose(v, np.zeros_like(v)):\n",
    "            print(\"Các cột của ma trận không độc lập tuyến tính\")\n",
    "            return None, None\n",
    "        \n",
    "        # Tính norm và chuẩn hóa\n",
    "        R[j, j] = norm(v)\n",
    "        Q[:, j] = v / R[j, j]\n",
    "    \n",
    "    # Đặt chế độ hiển thị để tránh ký hiệu khoa học\n",
    "    np.set_printoptions(suppress=True)\n",
    "    \n",
    "    return Q, R"
   ]
  },
  {
   "cell_type": "markdown",
   "id": "faf99dbb",
   "metadata": {},
   "source": [
    "# Một số test cases"
   ]
  },
  {
   "cell_type": "markdown",
   "id": "2886548b",
   "metadata": {},
   "source": [
    "## Test case 1: Ma trận vuông 3 x 3"
   ]
  },
  {
   "cell_type": "code",
   "execution_count": 2,
   "id": "22edf5fc",
   "metadata": {},
   "outputs": [
    {
     "name": "stdout",
     "output_type": "stream",
     "text": [
      "Ma trận Q:\n",
      "[[ 0.57735027 -0.81649658 -0.        ]\n",
      " [ 0.57735027  0.40824829 -0.70710678]\n",
      " [ 0.57735027  0.40824829  0.70710678]]\n",
      "\n",
      "Ma trận R:\n",
      "[[1.73205081 1.15470054 0.57735027]\n",
      " [0.         0.81649658 0.40824829]\n",
      " [0.         0.         0.70710678]]\n"
     ]
    }
   ],
   "source": [
    "A = np.array([[1, 0, 0],\n",
    "              [1, 1, 0],\n",
    "              [1, 1, 1]])\n",
    "\n",
    "Q, R = gram_schmidt_qr_decomposition(A)\n",
    "print(\"Ma trận Q:\")\n",
    "print(Q)\n",
    "print(\"\\nMa trận R:\")\n",
    "print(R)"
   ]
  },
  {
   "cell_type": "markdown",
   "id": "433a8cac",
   "metadata": {},
   "source": [
    "## Test case 2: Ma trận 3 x 1"
   ]
  },
  {
   "cell_type": "code",
   "execution_count": 3,
   "id": "1358d872",
   "metadata": {},
   "outputs": [
    {
     "name": "stdout",
     "output_type": "stream",
     "text": [
      "Ma trận Q:\n",
      "[[ 0.87695113]\n",
      " [ 0.3284933 ]\n",
      " [-0.35078323]]\n",
      "\n",
      "Ma trận R:\n",
      "[[1.]]\n"
     ]
    }
   ],
   "source": [
    "B = np.array([[0.87695113],\n",
    "              [0.3284933],\n",
    "              [-0.35078323]])\n",
    "\n",
    "Q, R = gram_schmidt_qr_decomposition(B)\n",
    "print(\"Ma trận Q:\")\n",
    "print(Q)\n",
    "print(\"\\nMa trận R:\")\n",
    "print(R)"
   ]
  },
  {
   "cell_type": "markdown",
   "id": "9362740a",
   "metadata": {},
   "source": [
    "## Test case 3: Ma trận 3 x 4"
   ]
  },
  {
   "cell_type": "code",
   "execution_count": 4,
   "id": "eae279c4",
   "metadata": {},
   "outputs": [
    {
     "name": "stdout",
     "output_type": "stream",
     "text": [
      "Các cột của ma trận không độc lập tuyến tính\n",
      "Ma trận Q:\n",
      "None\n",
      "\n",
      "Ma trận R:\n",
      "None\n"
     ]
    }
   ],
   "source": [
    "C = np.array([[1, 0, 0, 1],\n",
    "              [1, 1, 0, 0],\n",
    "              [1, 1, 1, 1]])\n",
    "\n",
    "Q, R = gram_schmidt_qr_decomposition(C)\n",
    "print(\"Ma trận Q:\")\n",
    "print(Q)\n",
    "print(\"\\nMa trận R:\")\n",
    "print(R)"
   ]
  },
  {
   "cell_type": "markdown",
   "id": "0c6c17f5",
   "metadata": {},
   "source": [
    "## Kiểm tra phân rã QR\n",
    "\n",
    "Sau khi thực hiện phân rã QR, ta có thể kiểm tra tính chính xác bằng cách nhân lại các ma trận $Q$ và $R$:\n",
    "\n",
    "### Phương pháp kiểm tra\n",
    "1. Thực hiện phép nhân ma trận:  \n",
    "   $$ A_{\\text{reconstructed}} = Q \\times R $$\n",
    "\n",
    "2. So sánh với ma trận gốc $A$:\n",
    "   $$ \\|A - QR\\|_F < \\epsilon $$\n",
    "   với $\\epsilon$ là ngưỡng sai số chấp nhận được (thường chọn $\\epsilon = 10^{-10}$)"
   ]
  },
  {
   "cell_type": "code",
   "execution_count": 5,
   "id": "639a6d34",
   "metadata": {},
   "outputs": [
    {
     "data": {
      "text/plain": [
       "array([[ 1.,  0.,  0.],\n",
       "       [ 1.,  1., -0.],\n",
       "       [ 1.,  1.,  1.]])"
      ]
     },
     "execution_count": 5,
     "metadata": {},
     "output_type": "execute_result"
    }
   ],
   "source": [
    "Q, R = gram_schmidt_qr_decomposition(A)\n",
    "\n",
    "result = np.dot(Q, R)\n",
    "result"
   ]
  },
  {
   "cell_type": "markdown",
   "id": "a8fa76be",
   "metadata": {},
   "source": [
    "### Hàm/phương thức tương ứng của các thư viện"
   ]
  },
  {
   "cell_type": "markdown",
   "id": "7a356423",
   "metadata": {},
   "source": [
    "### 1. numpy.linalg.qr()"
   ]
  },
  {
   "cell_type": "markdown",
   "id": "602d8712",
   "metadata": {},
   "source": [
    "### Test case 1: Ma trận vuông 3 x 3"
   ]
  },
  {
   "cell_type": "code",
   "execution_count": 6,
   "id": "8afd777c",
   "metadata": {},
   "outputs": [
    {
     "name": "stdout",
     "output_type": "stream",
     "text": [
      "Ma trận Q_numpy:\n",
      "[[-0.57735027  0.81649658 -0.        ]\n",
      " [-0.57735027 -0.40824829 -0.70710678]\n",
      " [-0.57735027 -0.40824829  0.70710678]]\n",
      "\n",
      "Ma trận R_numpy:\n",
      "[[-1.73205081 -1.15470054 -0.57735027]\n",
      " [ 0.         -0.81649658 -0.40824829]\n",
      " [ 0.          0.          0.70710678]]\n"
     ]
    }
   ],
   "source": [
    "from numpy.linalg import qr as qr_numpy\n",
    "\n",
    "A = np.array([[1, 0, 0],\n",
    "              [1, 1, 0],\n",
    "              [1, 1, 1]])\n",
    "\n",
    "Q, R = qr_numpy(A)\n",
    "\n",
    "print(\"Ma trận Q_numpy:\")\n",
    "print(Q)\n",
    "print(\"\\nMa trận R_numpy:\")\n",
    "print(R)\n"
   ]
  },
  {
   "cell_type": "markdown",
   "id": "41822517",
   "metadata": {},
   "source": [
    "### Test case 2: Ma trận 1 x 3"
   ]
  },
  {
   "cell_type": "code",
   "execution_count": 7,
   "id": "dc163708",
   "metadata": {},
   "outputs": [
    {
     "name": "stdout",
     "output_type": "stream",
     "text": [
      "Ma trận Q_numpy:\n",
      "[[-0.87695113]\n",
      " [-0.3284933 ]\n",
      " [ 0.35078323]]\n",
      "\n",
      "Ma trận R_numpy:\n",
      "[[-1.]]\n"
     ]
    }
   ],
   "source": [
    "B = np.array([[ 0.87695113],\n",
    "              [ 0.3284933 ],\n",
    "              [-0.35078323]])\n",
    "\n",
    "# Phân rã QR của ma trận B\n",
    "Q, R = qr_numpy(B)\n",
    "\n",
    "# In ra ma trận Q và R\n",
    "print(\"Ma trận Q_numpy:\")\n",
    "print(Q)\n",
    "print(\"\\nMa trận R_numpy:\")\n",
    "print(R)"
   ]
  },
  {
   "cell_type": "markdown",
   "id": "1df2baca",
   "metadata": {},
   "source": [
    "### Test case 3: Ma trận 4 x 3"
   ]
  },
  {
   "cell_type": "code",
   "execution_count": 8,
   "id": "cc86fcab",
   "metadata": {},
   "outputs": [
    {
     "name": "stdout",
     "output_type": "stream",
     "text": [
      "Ma trận Q_numpy:\n",
      "[[-0.57735027  0.81649658 -0.        ]\n",
      " [-0.57735027 -0.40824829 -0.70710678]\n",
      " [-0.57735027 -0.40824829  0.70710678]]\n",
      "\n",
      "Ma trận R_numpy:\n",
      "[[-1.73205081 -1.15470054 -0.57735027 -1.15470054]\n",
      " [ 0.         -0.81649658 -0.40824829  0.40824829]\n",
      " [ 0.          0.          0.70710678  0.70710678]]\n"
     ]
    }
   ],
   "source": [
    "C = np.array([[1, 0, 0, 1],\n",
    "              [1, 1, 0, 0],\n",
    "              [1, 1, 1, 1]])\n",
    "\n",
    "# Phân rã QR của ma trận C\n",
    "Q, R = qr_numpy(C)\n",
    "\n",
    "# In ra ma trận Q và R\n",
    "print(\"Ma trận Q_numpy:\")\n",
    "print(Q)\n",
    "print(\"\\nMa trận R_numpy:\")\n",
    "print(R)"
   ]
  },
  {
   "cell_type": "markdown",
   "id": "3483d76d",
   "metadata": {},
   "source": [
    "### 2. scipy.linalg.qr()"
   ]
  },
  {
   "cell_type": "markdown",
   "id": "e1e30c82",
   "metadata": {},
   "source": [
    "### Test case 1: Ma trận vuông 3 x 3"
   ]
  },
  {
   "cell_type": "code",
   "execution_count": 9,
   "id": "788ea3bb",
   "metadata": {},
   "outputs": [
    {
     "name": "stdout",
     "output_type": "stream",
     "text": [
      "Ma trận Q_scipy:\n",
      "[[-0.57735027  0.81649658 -0.        ]\n",
      " [-0.57735027 -0.40824829 -0.70710678]\n",
      " [-0.57735027 -0.40824829  0.70710678]]\n",
      "\n",
      "Ma trận R_scipy:\n",
      "[[-1.73205081 -1.15470054 -0.57735027]\n",
      " [ 0.         -0.81649658 -0.40824829]\n",
      " [ 0.          0.          0.70710678]]\n"
     ]
    }
   ],
   "source": [
    "from scipy.linalg import qr as qr_scipy\n",
    "\n",
    "A = np.array([[1, 0, 0],\n",
    "              [1, 1, 0],\n",
    "              [1, 1, 1]])\n",
    "\n",
    "Q, R = qr_scipy(A)\n",
    "\n",
    "print(\"Ma trận Q_scipy:\")\n",
    "print(Q)\n",
    "print(\"\\nMa trận R_scipy:\")\n",
    "print(R)"
   ]
  },
  {
   "cell_type": "markdown",
   "id": "10b98dd5",
   "metadata": {},
   "source": [
    "### Test case 2: Ma trận 1 x 3"
   ]
  },
  {
   "cell_type": "code",
   "execution_count": 10,
   "id": "93a46a03",
   "metadata": {},
   "outputs": [
    {
     "name": "stdout",
     "output_type": "stream",
     "text": [
      "Ma trận Q_scipy:\n",
      "[[-0.87695113 -0.3284933   0.35078323]\n",
      " [-0.3284933   0.94250897  0.06139208]\n",
      " [ 0.35078323  0.06139208  0.93444215]]\n",
      "\n",
      "Ma trận R_scipy:\n",
      "[[-1.]\n",
      " [ 0.]\n",
      " [ 0.]]\n"
     ]
    }
   ],
   "source": [
    "B = np.array([[ 0.87695113],\n",
    "              [ 0.3284933 ],\n",
    "              [-0.35078323]])\n",
    "\n",
    "# Phân rã QR của ma trận B\n",
    "Q, R = qr_scipy(B)\n",
    "\n",
    "# In ra ma trận Q và R\n",
    "print(\"Ma trận Q_scipy:\")\n",
    "print(Q)\n",
    "print(\"\\nMa trận R_scipy:\")\n",
    "print(R)"
   ]
  },
  {
   "cell_type": "markdown",
   "id": "78b391f0",
   "metadata": {},
   "source": [
    "### Test case 3: Ma trận 4 x 3"
   ]
  },
  {
   "cell_type": "code",
   "execution_count": 11,
   "id": "b25ae977",
   "metadata": {},
   "outputs": [
    {
     "name": "stdout",
     "output_type": "stream",
     "text": [
      "Ma trận Q_numpy:\n",
      "[[-0.57735027  0.81649658 -0.        ]\n",
      " [-0.57735027 -0.40824829 -0.70710678]\n",
      " [-0.57735027 -0.40824829  0.70710678]]\n",
      "\n",
      "Ma trận R_numpy:\n",
      "[[-1.73205081 -1.15470054 -0.57735027 -1.15470054]\n",
      " [ 0.         -0.81649658 -0.40824829  0.40824829]\n",
      " [ 0.          0.          0.70710678  0.70710678]]\n"
     ]
    }
   ],
   "source": [
    "C = np.array([[1, 0, 0, 1],\n",
    "              [1, 1, 0, 0],\n",
    "              [1, 1, 1, 1]])\n",
    "\n",
    "# Phân rã QR của ma trận C\n",
    "Q, R = qr_scipy(C)\n",
    "\n",
    "# In ra ma trận Q và R\n",
    "print(\"Ma trận Q_numpy:\")\n",
    "print(Q)\n",
    "print(\"\\nMa trận R_numpy:\")\n",
    "print(R)"
   ]
  },
  {
   "cell_type": "markdown",
   "id": "02cc4c57",
   "metadata": {},
   "source": [
    "### So sánh giữa hai hàm numpy.linalg.qr() và scipy.linalg.qr() \n",
    "\n",
    "| Đặc điểm               | numpy.linalg.qr()                | scipy.linalg.qr()                |\n",
    "|------------------------|----------------------------------|----------------------------------|\n",
    "| **Thư viện**           | NumPy                            | SciPy                            |\n",
    "| **Thuật toán**         | Householder reflections          | Householder/Givens rotations     |\n",
    "| **Đầu vào**            | Mảng NumPy                       | Mảng NumPy, ma trận thưa         |\n",
    "| **Mode mặc định**      | 'reduced'                        | 'full'                           |\n",
    "| **Xử lý ma trận suy biến** | Cảnh báo                      | Hỗ trợ pivoting                  |\n",
    "| **Hiệu năng**          | Tốt cho ma trận nhỏ              | Tối ưu cho ma trận lớn           |\n",
    " \n",
    "\n",
    "---\n",
    "\n",
    "## So sánh kết quả theo từng test case giữa hàm tự xây dựng và 2 hàm sử dụng thư viện\n",
    "\n",
    "1. **Test case 1 (ma trận 3x3)**: Kết quả trả về của ma trận Q, R của hàm tự xây dựng **khác** về **dấu** so với 2 hàm sử dụng thư viện\n",
    "\n",
    "2. **Test case 2 (ma trận 1x3)**:\n",
    "   - Kết quả trả về của ma trận Q, R của 3 hàm là **giống nhau**, chỉ khác về cách trình bày kết quả\n",
    "   - Đối với hàm `numpy.linalg.qr()` thì mode trả về mặc định là reduced (dưới dạng rút gọn). Trong khi đó với hàm `scipy.linalg.qr()` thì mode trả về mặc định là full (dưới dạng đầy đủ)\n",
    "   - Để có thể lấy được kết quả trả về của hai hàm là như nhau, ta có thể chỉnh:\n",
    "     - `mode = 'economic'` cho `scipy.linalg.qr()`\n",
    "     - Hoặc `mode = 'complete'` cho `numpy.linalg.qr()`\n",
    "\n",
    "3. **Test case 3 (ma trận 4x3)**: Kết quả trả về của ma trận Q, R của hàm tự xây dựng **khác biệt** rõ rệt so với hai hàm sử dụng thư viện\n",
    "\n",
    "## Giải thích về sự khác nhau của hàm tự xây dựng và hàm thư viện\n",
    "\n",
    "1. **Hàm gram_schmidt_qr_decomposition(A)**:\n",
    "   - Sử dụng thuật giải **Gram-Schmidt**\n",
    "   - Sử dụng phương pháp lặp để tạo ra các vector cột của ma trận Q và tính toán ma trận R\n",
    "   - Trong quá trình lặp, các phép toán tích vô hướng và trừ vector được sử dụng\n",
    "   - Phương pháp Gram-Schmidt có thể không hoạt động tốt với ma trận có các cột gần tương đương hoặc gần tương đương tuyến tính\n",
    "\n",
    "2. **Hàm sử dụng thư viện numpy.linalg.qr()**:\n",
    "   - Sử dụng phương pháp tối ưu hóa và triển khai hiệu quả hơn\n",
    "   - Sử dụng phép biến đổi **Householder** và/hoặc **phép biến đổi Givens**\n",
    "   - Được tối ưu hóa để xử lý hiệu quả các ma trận lớn và ma trận có cột gần tương đương\n",
    "\n",
    "=> Vì cách tiếp cận và thuật toán khác nhau, kết quả trả về có thể khác nhau. Khi thực hiện phân rã QR, một ma trận có thể có nhiều phân rã khác nhau, nhưng các phân rã đều thỏa mãn tính chất cơ bản của phân rã QR.\n",
    "\n",
    "Cụ thể, nếu $A$ là một ma trận có kích thước $m \\times n$ $(m >= n)$, phân rã $QR$ của $A$ là sự phân tách $A$ thành hai ma trận $Q$ và $R$, sao cho:\n",
    "\n",
    "- Ma trận Q là một ma trận Orthogonal (trực giao), có kích thước $m \\times m$ và thỏa mãn $Q^T \\cdot Q = I$\n",
    "- Ma trận $R$ là một ma trận Upper Triangular (tam giác trên), có kích thước $n \\times n$\n",
    "\n",
    "## Một số ứng dụng của QR decomposition\n",
    "\n",
    "Phân rã QR (QR decomposition) là một phương pháp quan trọng trong đại số tuyến tính và có nhiều ứng dụng:\n",
    "\n",
    "1. **Giải hệ phương trình tuyến tính**: Sử dụng phân rã QR để giải các hệ phương trình tuyến tính dạng $Ax = b$, trong đó $A$ là ma trận hệ số, $x$ là vector ẩn cần tìm, và $b$ là vector kết quả.\n",
    "\n",
    "2. **Tính toán ma trận nghịch đảo**: Phân rã QR hỗ trợ tính toán ma trận nghịch đảo của một ma trận vuông $A$ bằng cách sử dụng các ma trận $Q$ và $R$.\n",
    "\n",
    "3. **Phân tích giá trị riêng**: QR decomposition là một bước quan trọng trong thuật toán QR để tính toán giá trị riêng của ma trận.\n",
    "\n",
    "4. **Phân rã SVD (Singular Value Decomposition)**: Phân rã QR được sử dụng như một bước trung gian trong việc tính toán phân rã giá trị kỳ dị (SVD) của ma trận.\n",
    "\n",
    "5. **Tính toán least squares**: Phân rã QR được sử dụng để giải bài toán tối ưu hóa least squares, đặc biệt khi ma trận $A$ không vuông hoặc suy biến.\n",
    "\n",
    "6. **Phân tích suy biến**: Hỗ trợ phân tích và xử lý các ma trận suy biến hoặc gần suy biến, giúp cải thiện độ ổn định số học trong các bài toán đại số tuyến tính.\n",
    "\n",
    "## Ứng dụng trong hệ thống Multiple-Input and Multiple-Output\n",
    "\n",
    "Phân rã QR được sử dụng rộng rãi trong hệ thống MIMO:\n",
    "\n",
    "1. **Beamforming:** Sử dụng phân rã QR để tạo ra các ma trận beamforming, trong đó ma trận Q chứa các vector beamforming trực giao và ma trận R chứa thông tin về hướng beam.\n",
    "\n",
    "2. **MIMO Detection:** Phân rã QR hỗ trợ giải mã tín hiệu từ các anten thu, giúp ước lượng tín hiệu từ các anten truyền và đưa ra quyết định về thông tin truyền gửi.\n",
    "\n",
    "3. **Channel Equalization:** Sử dụng phân rã QR để cân bằng kênh truyền giữa các anten, tối ưu hóa việc truyền tín hiệu.\n",
    "\n",
    "4. **Precoding:** Tối ưu hóa việc truyền tín hiệu từ các anten truyền bằng cách sử dụng ma trận precoding được tạo từ phân rã QR.\n",
    "\n",
    "5. **MIMO Channel Estimation:** Ước lượng kênh truyền giữa các anten bằng cách sử dụng phân rã QR trên tín hiệu nhận được, giúp tối ưu hóa việc truyền tín hiệu trong hệ thống MIMO.\n",
    "\n",
    "## Ý tưởng thực hiện và mô tả các hàm trong hàm QR decomposition tự xây dựng\n",
    "\n",
    "### Các hàm phụ hỗ trợ cho hàm chính\n",
    "\n",
    "1. **Hàm norm(vector)**: Tính toán độ dài (norm) của một vector\n",
    "2. **Hàm dot_product(v1, v2)**: Tính tích vô hướng của hai vector\n",
    "3. **Hàm vector_subtract(v1, v2)**: Trừ hai vector\n",
    "\n",
    "### Hàm chính gram_schmidt_qr_decomposition()\n",
    "\n",
    "Ý tưởng chính:\n",
    "- Thực hiện phân rã QR của ma trận A bằng phương pháp Gram-Schmidt\n",
    "- Chia ma trận A thành hai ma trận Q (trực giao) và R (tam giác trên)\n",
    "\n",
    "Mô tả chi tiết:\n",
    "1. Khởi tạo ma trận Q và R với giá trị 0\n",
    "2. Lặp qua từng cột j trong ma trận A:\n",
    "   - Lấy vector cột j của A\n",
    "   - Lặp qua từng cột i từ 0 đến j-1 trong Q:\n",
    "     - Tính R[i, j] bằng tích vô hướng\n",
    "     - Trừ đi phần tử R[i, j] nhân với cột i của Q\n",
    "   - Tính R[j, j] bằng độ dài của vector\n",
    "   - Chuẩn hóa vector để có cột j của Q\n",
    "3. Trả về ma trận Q và R\n",
    "\n",
    "*Hai hàm `np.set_printoptions(suppress=True)` và `np.zeros()` là hàm của thư viện NumPy để thiết lập tùy chọn hiển thị và tạo ma trận zeros.*"
   ]
  }
 ],
 "metadata": {
  "kernelspec": {
   "display_name": "Python 3",
   "language": "python",
   "name": "python3"
  },
  "language_info": {
   "codemirror_mode": {
    "name": "ipython",
    "version": 3
   },
   "file_extension": ".py",
   "mimetype": "text/x-python",
   "name": "python",
   "nbconvert_exporter": "python",
   "pygments_lexer": "ipython3",
   "version": "3.13.2"
  }
 },
 "nbformat": 4,
 "nbformat_minor": 5
}
